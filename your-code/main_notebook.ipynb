{
 "cells": [
  {
   "cell_type": "markdown",
   "metadata": {},
   "source": [
    "#1. Import the NUMPY package under the name np.\n"
   ]
  },
  {
   "cell_type": "code",
   "execution_count": 1,
   "metadata": {},
   "outputs": [],
   "source": [
    "import numpy as np"
   ]
  },
  {
   "cell_type": "markdown",
   "metadata": {},
   "source": [
    "#2. Print the NUMPY version and the configuration.\n"
   ]
  },
  {
   "cell_type": "code",
   "execution_count": 2,
   "metadata": {},
   "outputs": [
    {
     "data": {
      "text/plain": [
       "'1.15.4'"
      ]
     },
     "execution_count": 2,
     "metadata": {},
     "output_type": "execute_result"
    }
   ],
   "source": [
    "np.version.version"
   ]
  },
  {
   "cell_type": "markdown",
   "metadata": {},
   "source": [
    "#3. Generate a 2x3x5 3-dimensional array with random values. Assign the array to variable \"a\"\n"
   ]
  },
  {
   "cell_type": "code",
   "execution_count": 3,
   "metadata": {},
   "outputs": [],
   "source": [
    "a = np.random.random((2, 3, 5))\n"
   ]
  },
  {
   "cell_type": "markdown",
   "metadata": {},
   "source": [
    "#### Challenge: there are at least three easy ways that use numpy to generate random arrays. How many ways can you find? \n",
    "\n",
    "Only one. Can you explain the others?\n"
   ]
  },
  {
   "cell_type": "markdown",
   "metadata": {},
   "source": [
    "#4. Print a.\n"
   ]
  },
  {
   "cell_type": "code",
   "execution_count": 4,
   "metadata": {},
   "outputs": [
    {
     "name": "stdout",
     "output_type": "stream",
     "text": [
      "[[[0.92141549 0.70995804 0.16714258 0.72750523 0.08099513]\n",
      "  [0.13600026 0.54864943 0.63649312 0.59373922 0.74100927]\n",
      "  [0.6735104  0.98086762 0.23514816 0.2380205  0.06451981]]\n",
      "\n",
      " [[0.55174791 0.71510106 0.43792671 0.67331121 0.90117861]\n",
      "  [0.74834284 0.37734546 0.10594317 0.83693121 0.28937354]\n",
      "  [0.22975647 0.21737267 0.4917501  0.60200281 0.47395701]]]\n"
     ]
    }
   ],
   "source": [
    "print(a)"
   ]
  },
  {
   "cell_type": "markdown",
   "metadata": {},
   "source": [
    "#5. Create a 5x2x3 3-dimensional array with all values equaling 1.\n",
    "#Assign the array to variable \"b\"\n",
    "\n"
   ]
  },
  {
   "cell_type": "code",
   "execution_count": 5,
   "metadata": {},
   "outputs": [],
   "source": [
    "b = np.ones((5, 3, 2))\n"
   ]
  },
  {
   "cell_type": "markdown",
   "metadata": {},
   "source": [
    "#6. Print b.\n"
   ]
  },
  {
   "cell_type": "code",
   "execution_count": 6,
   "metadata": {},
   "outputs": [
    {
     "name": "stdout",
     "output_type": "stream",
     "text": [
      "[[[1. 1.]\n",
      "  [1. 1.]\n",
      "  [1. 1.]]\n",
      "\n",
      " [[1. 1.]\n",
      "  [1. 1.]\n",
      "  [1. 1.]]\n",
      "\n",
      " [[1. 1.]\n",
      "  [1. 1.]\n",
      "  [1. 1.]]\n",
      "\n",
      " [[1. 1.]\n",
      "  [1. 1.]\n",
      "  [1. 1.]]\n",
      "\n",
      " [[1. 1.]\n",
      "  [1. 1.]\n",
      "  [1. 1.]]]\n"
     ]
    }
   ],
   "source": [
    "print(b)"
   ]
  },
  {
   "cell_type": "markdown",
   "metadata": {},
   "source": [
    "#7. Do a and b have the same size? How do you prove that in Python code?\n"
   ]
  },
  {
   "cell_type": "code",
   "execution_count": 7,
   "metadata": {},
   "outputs": [
    {
     "ename": "ValueError",
     "evalue": "operands could not be broadcast together with shapes (2,3,5) (5,3,2) ",
     "output_type": "error",
     "traceback": [
      "\u001b[0;31m---------------------------------------------------------------------------\u001b[0m",
      "\u001b[0;31mValueError\u001b[0m                                Traceback (most recent call last)",
      "\u001b[0;32m<ipython-input-7-c17f8b38d6eb>\u001b[0m in \u001b[0;36m<module>\u001b[0;34m\u001b[0m\n\u001b[0;32m----> 1\u001b[0;31m \u001b[0mnp\u001b[0m\u001b[0;34m.\u001b[0m\u001b[0madd\u001b[0m\u001b[0;34m(\u001b[0m\u001b[0ma\u001b[0m\u001b[0;34m,\u001b[0m \u001b[0mb\u001b[0m\u001b[0;34m)\u001b[0m\u001b[0;34m\u001b[0m\u001b[0;34m\u001b[0m\u001b[0m\n\u001b[0m",
      "\u001b[0;31mValueError\u001b[0m: operands could not be broadcast together with shapes (2,3,5) (5,3,2) "
     ]
    }
   ],
   "source": [
    "np.add(a, b)"
   ]
  },
  {
   "cell_type": "markdown",
   "metadata": {},
   "source": [
    "#8. Are you able to add a and b? Why or why not?\n"
   ]
  },
  {
   "cell_type": "code",
   "execution_count": null,
   "metadata": {},
   "outputs": [],
   "source": [
    "#No, because they have different sizes"
   ]
  },
  {
   "cell_type": "markdown",
   "metadata": {},
   "source": [
    "#9. Transpose b so that it has the same structure of a (i.e. become a 2x3x5 array). Assign the transposed array to varialbe \"c\".\n"
   ]
  },
  {
   "cell_type": "code",
   "execution_count": 8,
   "metadata": {},
   "outputs": [],
   "source": [
    "c = np.matrix.transpose(b)"
   ]
  },
  {
   "cell_type": "markdown",
   "metadata": {},
   "source": [
    "#10. Try to add a and c. Now it should work. Assign the sum to varialbe \"d\". But why does it work now?\n"
   ]
  },
  {
   "cell_type": "code",
   "execution_count": 9,
   "metadata": {},
   "outputs": [],
   "source": [
    "d = np.add(a, c)\n",
    "#because they have the same size"
   ]
  },
  {
   "cell_type": "markdown",
   "metadata": {},
   "source": [
    "#11. Print a and d. Notice the difference and relation of the two array in terms of the values? Explain.\n"
   ]
  },
  {
   "cell_type": "code",
   "execution_count": 10,
   "metadata": {},
   "outputs": [
    {
     "name": "stdout",
     "output_type": "stream",
     "text": [
      "[[[0.92141549 0.70995804 0.16714258 0.72750523 0.08099513]\n",
      "  [0.13600026 0.54864943 0.63649312 0.59373922 0.74100927]\n",
      "  [0.6735104  0.98086762 0.23514816 0.2380205  0.06451981]]\n",
      "\n",
      " [[0.55174791 0.71510106 0.43792671 0.67331121 0.90117861]\n",
      "  [0.74834284 0.37734546 0.10594317 0.83693121 0.28937354]\n",
      "  [0.22975647 0.21737267 0.4917501  0.60200281 0.47395701]]]\n",
      "\n",
      "[[[1.92141549 1.70995804 1.16714258 1.72750523 1.08099513]\n",
      "  [1.13600026 1.54864943 1.63649312 1.59373922 1.74100927]\n",
      "  [1.6735104  1.98086762 1.23514816 1.2380205  1.06451981]]\n",
      "\n",
      " [[1.55174791 1.71510106 1.43792671 1.67331121 1.90117861]\n",
      "  [1.74834284 1.37734546 1.10594317 1.83693121 1.28937354]\n",
      "  [1.22975647 1.21737267 1.4917501  1.60200281 1.47395701]]]\n"
     ]
    }
   ],
   "source": [
    "print(a)\n",
    "print(\"\")\n",
    "print(d)\n",
    "#d is a + 1, in all its elements."
   ]
  },
  {
   "cell_type": "markdown",
   "metadata": {},
   "source": [
    "#12. Multiply a and c. Assign the result to e.\n"
   ]
  },
  {
   "cell_type": "code",
   "execution_count": 11,
   "metadata": {},
   "outputs": [
    {
     "name": "stdout",
     "output_type": "stream",
     "text": [
      "[[[0.92141549 0.70995804 0.16714258 0.72750523 0.08099513]\n",
      "  [0.13600026 0.54864943 0.63649312 0.59373922 0.74100927]\n",
      "  [0.6735104  0.98086762 0.23514816 0.2380205  0.06451981]]\n",
      "\n",
      " [[0.55174791 0.71510106 0.43792671 0.67331121 0.90117861]\n",
      "  [0.74834284 0.37734546 0.10594317 0.83693121 0.28937354]\n",
      "  [0.22975647 0.21737267 0.4917501  0.60200281 0.47395701]]]\n"
     ]
    }
   ],
   "source": [
    "e = np.multiply(a, c)\n",
    "print(e)"
   ]
  },
  {
   "cell_type": "markdown",
   "metadata": {},
   "source": [
    "#13. Does e equal to a? Why or why not?\n"
   ]
  },
  {
   "cell_type": "code",
   "execution_count": 12,
   "metadata": {},
   "outputs": [],
   "source": [
    "#yes, because multiply by 1 each value equals to the same value"
   ]
  },
  {
   "cell_type": "markdown",
   "metadata": {},
   "source": [
    "#14. Identify the max, min, and mean values in d. Assign those values to variables \"d_max\", \"d_min\", and \"d_mean\"\n"
   ]
  },
  {
   "cell_type": "code",
   "execution_count": 13,
   "metadata": {},
   "outputs": [
    {
     "name": "stdout",
     "output_type": "stream",
     "text": [
      "1.980867620166944\n",
      "1.0645198075005697\n",
      "1.5035671681877347\n"
     ]
    }
   ],
   "source": [
    "d_max = np.max(d)\n",
    "d_min = np.min(d)\n",
    "d_mean = np.mean(d)\n",
    "\n",
    "print(d_max)\n",
    "print(d_min)\n",
    "print(d_mean)"
   ]
  },
  {
   "cell_type": "markdown",
   "metadata": {},
   "source": [
    "#15. Now we want to label the values in d. First create an empty array \"f\" with the same shape (i.e. 2x3x5) as d using `np.empty`.\n"
   ]
  },
  {
   "cell_type": "code",
   "execution_count": 14,
   "metadata": {},
   "outputs": [
    {
     "name": "stdout",
     "output_type": "stream",
     "text": [
      "[[[0.92141549 0.70995804 0.16714258 0.72750523 0.08099513]\n",
      "  [0.13600026 0.54864943 0.63649312 0.59373922 0.74100927]\n",
      "  [0.6735104  0.98086762 0.23514816 0.2380205  0.06451981]]\n",
      "\n",
      " [[0.55174791 0.71510106 0.43792671 0.67331121 0.90117861]\n",
      "  [0.74834284 0.37734546 0.10594317 0.83693121 0.28937354]\n",
      "  [0.22975647 0.21737267 0.4917501  0.60200281 0.47395701]]]\n"
     ]
    }
   ],
   "source": [
    "f = np.empty((2, 3, 5))\n",
    "print(f)"
   ]
  },
  {
   "cell_type": "markdown",
   "metadata": {},
   "source": [
    "\n",
    "#16. Populate the values in f. For each value in d, if it's larger than d_min but smaller than d_mean, assign 25 to the corresponding value in f.\n",
    "If a value in d is larger than d_mean but smaller than d_max, assign 75 to the corresponding value in f.\n",
    "If a value equals to d_mean, assign 50 to the corresponding value in f.\n",
    "Assign 0 to the corresponding value(s) in f for d_min in d.\n",
    "Assign 100 to the corresponding value(s) in f for d_max in d.\n",
    "In the end, f should have only the following values: 0, 25, 50, 75, and 100.\n",
    "Note: you don't have to use Numpy in this question.\n",
    "\n",
    "\n"
   ]
  },
  {
   "cell_type": "code",
   "execution_count": 15,
   "metadata": {},
   "outputs": [
    {
     "name": "stdout",
     "output_type": "stream",
     "text": [
      "0\n",
      "[0.92141549 0.70995804 0.16714258 0.72750523 0.08099513]\n",
      "this is j: 0.9214154882885823\n",
      "this is d_mean: 1.5035671681877347\n",
      "this is d_min: 1.0645198075005697\n",
      "this is j: 0.7099580393909736\n",
      "this is d_mean: 1.5035671681877347\n",
      "this is d_min: 1.0645198075005697\n",
      "this is j: 0.1671425821991922\n",
      "this is d_mean: 1.5035671681877347\n",
      "this is d_min: 1.0645198075005697\n",
      "this is j: 0.7275052340728959\n",
      "this is d_mean: 1.5035671681877347\n",
      "this is d_min: 1.0645198075005697\n",
      "this is j: 0.08099512929021235\n",
      "this is d_mean: 1.5035671681877347\n",
      "this is d_min: 1.0645198075005697\n",
      "[0.13600026 0.54864943 0.63649312 0.59373922 0.74100927]\n",
      "this is j: 0.13600025767502133\n",
      "this is d_mean: 1.5035671681877347\n",
      "this is d_min: 1.0645198075005697\n",
      "this is j: 0.5486494325480326\n",
      "this is d_mean: 1.5035671681877347\n",
      "this is d_min: 1.0645198075005697\n",
      "this is j: 0.6364931156730684\n",
      "this is d_mean: 1.5035671681877347\n",
      "this is d_min: 1.0645198075005697\n",
      "this is j: 0.5937392202279812\n",
      "this is d_mean: 1.5035671681877347\n",
      "this is d_min: 1.0645198075005697\n",
      "this is j: 0.7410092730323772\n",
      "this is d_mean: 1.5035671681877347\n",
      "this is d_min: 1.0645198075005697\n",
      "[0.6735104  0.98086762 0.23514816 0.2380205  0.06451981]\n",
      "this is j: 0.6735104034714032\n",
      "this is d_mean: 1.5035671681877347\n",
      "this is d_min: 1.0645198075005697\n",
      "this is j: 0.980867620166944\n",
      "this is d_mean: 1.5035671681877347\n",
      "this is d_min: 1.0645198075005697\n",
      "this is j: 0.23514816461328425\n",
      "this is d_mean: 1.5035671681877347\n",
      "this is d_min: 1.0645198075005697\n",
      "this is j: 0.23802049701642147\n",
      "this is d_mean: 1.5035671681877347\n",
      "this is d_min: 1.0645198075005697\n",
      "this is j: 0.06451980750056985\n",
      "this is d_mean: 1.5035671681877347\n",
      "this is d_min: 1.0645198075005697\n",
      "1\n",
      "[0.55174791 0.71510106 0.43792671 0.67331121 0.90117861]\n",
      "this is j: 0.5517479076370752\n",
      "this is d_mean: 1.5035671681877347\n",
      "this is d_min: 1.0645198075005697\n",
      "this is j: 0.715101057732586\n",
      "this is d_mean: 1.5035671681877347\n",
      "this is d_min: 1.0645198075005697\n",
      "this is j: 0.43792670710630066\n",
      "this is d_mean: 1.5035671681877347\n",
      "this is d_min: 1.0645198075005697\n",
      "this is j: 0.6733112111427556\n",
      "this is d_mean: 1.5035671681877347\n",
      "this is d_min: 1.0645198075005697\n",
      "this is j: 0.9011786060906313\n",
      "this is d_mean: 1.5035671681877347\n",
      "this is d_min: 1.0645198075005697\n",
      "[0.74834284 0.37734546 0.10594317 0.83693121 0.28937354]\n",
      "this is j: 0.7483428438370744\n",
      "this is d_mean: 1.5035671681877347\n",
      "this is d_min: 1.0645198075005697\n",
      "this is j: 0.3773454643007268\n",
      "this is d_mean: 1.5035671681877347\n",
      "this is d_min: 1.0645198075005697\n",
      "this is j: 0.10594317390931252\n",
      "this is d_mean: 1.5035671681877347\n",
      "this is d_min: 1.0645198075005697\n",
      "this is j: 0.8369312107593145\n",
      "this is d_mean: 1.5035671681877347\n",
      "this is d_min: 1.0645198075005697\n",
      "this is j: 0.2893735366161446\n",
      "this is d_mean: 1.5035671681877347\n",
      "this is d_min: 1.0645198075005697\n",
      "[0.22975647 0.21737267 0.4917501  0.60200281 0.47395701]\n",
      "this is j: 0.22975647147272193\n",
      "this is d_mean: 1.5035671681877347\n",
      "this is d_min: 1.0645198075005697\n",
      "this is j: 0.21737266759212925\n",
      "this is d_mean: 1.5035671681877347\n",
      "this is d_min: 1.0645198075005697\n",
      "this is j: 0.491750097358865\n",
      "this is d_mean: 1.5035671681877347\n",
      "this is d_min: 1.0645198075005697\n",
      "this is j: 0.6020028112240132\n",
      "this is d_mean: 1.5035671681877347\n",
      "this is d_min: 1.0645198075005697\n",
      "this is j: 0.47395701368542953\n",
      "this is d_mean: 1.5035671681877347\n",
      "this is d_min: 1.0645198075005697\n"
     ]
    }
   ],
   "source": [
    "for c1, i in enumerate(f):\n",
    "    print (c1)\n",
    "    for c2, h in enumerate(i):\n",
    "        print (h)\n",
    "        for c3, j in enumerate(h):\n",
    "            print('this is j: ' + str(j))\n",
    "            print('this is d_mean: ' + str(d_mean))\n",
    "            print('this is d_min: ' + str(d_min))\n",
    "            if (j > d_min) and (j < d_mean):\n",
    "                f[c1][c2][c3] = 25\n",
    "                print ('25')\n",
    "            if (j > d_mean) and (j < d_max):\n",
    "                f[c1][c2][c3] = 75\n",
    "                print ('75')\n",
    "            if j == d_mean:\n",
    "                f[c1][c2][c3] = 50\n",
    "                print ('50')\n",
    "            if j == d_min:\n",
    "                f[c1][c2][c3] = 0\n",
    "                print ('0')\n",
    "            if j == d_max:\n",
    "                f[c1][c2][c3] = 100\n",
    "                print('50')\n",
    "#print(f)"
   ]
  },
  {
   "cell_type": "code",
   "execution_count": 16,
   "metadata": {},
   "outputs": [
    {
     "name": "stdout",
     "output_type": "stream",
     "text": [
      "[[[0.92141549 0.70995804 0.16714258 0.72750523 0.08099513]\n",
      "  [0.13600026 0.54864943 0.63649312 0.59373922 0.74100927]\n",
      "  [0.6735104  0.98086762 0.23514816 0.2380205  0.06451981]]\n",
      "\n",
      " [[0.55174791 0.71510106 0.43792671 0.67331121 0.90117861]\n",
      "  [0.74834284 0.37734546 0.10594317 0.83693121 0.28937354]\n",
      "  [0.22975647 0.21737267 0.4917501  0.60200281 0.47395701]]]\n"
     ]
    }
   ],
   "source": [
    "print(f)"
   ]
  },
  {
   "cell_type": "code",
   "execution_count": 17,
   "metadata": {},
   "outputs": [],
   "source": [
    "#No one value is 0, 25, 50, 75 or 100. "
   ]
  },
  {
   "cell_type": "markdown",
   "metadata": {},
   "source": [
    "#17. Print d and f. Do you have your expected f?\n",
    "For instance, if your d is:\n",
    "array([[[1.85836099, 1.67064465, 1.62576044, 1.40243961, 1.88454931],\n",
    "        [1.75354326, 1.69403643, 1.36729252, 1.61415071, 1.12104981],\n",
    "        [1.72201435, 1.1862918 , 1.87078449, 1.7726778 , 1.88180042]],\n",
    "\n",
    "       [[1.44747908, 1.31673383, 1.02000951, 1.52218947, 1.97066381],\n",
    "        [1.79129243, 1.74983003, 1.96028037, 1.85166831, 1.65450881],\n",
    "        [1.18068344, 1.9587381 , 1.00656599, 1.93402165, 1.73514584]]])\n",
    "\n",
    "Your f should be:\n",
    "array([[[ 75.,  75.,  75.,  25.,  75.],\n",
    "        [ 75.,  75.,  25.,  25.,  25.],\n",
    "        [ 75.,  25.,  75.,  75.,  75.]],\n",
    "\n",
    "       [[ 25.,  25.,  25.,  25., 100.],\n",
    "        [ 75.,  75.,  75.,  75.,  75.],\n",
    "        [ 25.,  75.,   0.,  75.,  75.]]])"
   ]
  },
  {
   "cell_type": "code",
   "execution_count": 18,
   "metadata": {},
   "outputs": [
    {
     "name": "stdout",
     "output_type": "stream",
     "text": [
      "[[[1.92141549 1.70995804 1.16714258 1.72750523 1.08099513]\n",
      "  [1.13600026 1.54864943 1.63649312 1.59373922 1.74100927]\n",
      "  [1.6735104  1.98086762 1.23514816 1.2380205  1.06451981]]\n",
      "\n",
      " [[1.55174791 1.71510106 1.43792671 1.67331121 1.90117861]\n",
      "  [1.74834284 1.37734546 1.10594317 1.83693121 1.28937354]\n",
      "  [1.22975647 1.21737267 1.4917501  1.60200281 1.47395701]]]\n"
     ]
    }
   ],
   "source": [
    "print(d)"
   ]
  },
  {
   "cell_type": "code",
   "execution_count": 19,
   "metadata": {},
   "outputs": [],
   "source": [
    "# numpy.empty does not grap the numbers from d, but the numbers from a!"
   ]
  },
  {
   "cell_type": "markdown",
   "metadata": {},
   "source": [
    "#18. Bonus question: instead of using numbers (i.e. 0, 25, 50, 75, and 100), how to use string values \n",
    "(\"A\", \"B\", \"C\", \"D\", and \"E\") to label the array elements? You are expecting the result to be:\n",
    "array([[[ 'D',  'D',  'D',  'B',  'D'],\n",
    "        [ 'D',  'D',  'B',  'B',  'B'],\n",
    "        [ 'D',  'B',  'D',  'D',  'D']],\n",
    "\n",
    "       [[ 'B',  'B',  'B',  'B',  'E'],\n",
    "        [ 'D',  'D',  'D',  'D',  'D'],\n",
    "        [ 'B',  'D',   'A',  'D', 'D']]])\n",
    "Again, you don't need Numpy in this question."
   ]
  },
  {
   "cell_type": "code",
   "execution_count": 20,
   "metadata": {},
   "outputs": [
    {
     "ename": "ValueError",
     "evalue": "could not convert string to float: 'D'",
     "output_type": "error",
     "traceback": [
      "\u001b[0;31m---------------------------------------------------------------------------\u001b[0m",
      "\u001b[0;31mValueError\u001b[0m                                Traceback (most recent call last)",
      "\u001b[0;32m<ipython-input-20-0b20b7bded01>\u001b[0m in \u001b[0;36m<module>\u001b[0;34m\u001b[0m\n\u001b[1;32m      5\u001b[0m                 \u001b[0md\u001b[0m\u001b[0;34m[\u001b[0m\u001b[0mc1\u001b[0m\u001b[0;34m]\u001b[0m\u001b[0;34m[\u001b[0m\u001b[0mc2\u001b[0m\u001b[0;34m]\u001b[0m\u001b[0;34m[\u001b[0m\u001b[0mc3\u001b[0m\u001b[0;34m]\u001b[0m \u001b[0;34m=\u001b[0m \u001b[0;34m\"B\"\u001b[0m\u001b[0;34m\u001b[0m\u001b[0;34m\u001b[0m\u001b[0m\n\u001b[1;32m      6\u001b[0m             \u001b[0;32mif\u001b[0m \u001b[0;34m(\u001b[0m\u001b[0mj\u001b[0m \u001b[0;34m>\u001b[0m \u001b[0md_mean\u001b[0m\u001b[0;34m)\u001b[0m \u001b[0;32mand\u001b[0m \u001b[0;34m(\u001b[0m\u001b[0mj\u001b[0m \u001b[0;34m<\u001b[0m \u001b[0md_max\u001b[0m\u001b[0;34m)\u001b[0m\u001b[0;34m:\u001b[0m\u001b[0;34m\u001b[0m\u001b[0;34m\u001b[0m\u001b[0m\n\u001b[0;32m----> 7\u001b[0;31m                 \u001b[0md\u001b[0m\u001b[0;34m[\u001b[0m\u001b[0mc1\u001b[0m\u001b[0;34m]\u001b[0m\u001b[0;34m[\u001b[0m\u001b[0mc2\u001b[0m\u001b[0;34m]\u001b[0m\u001b[0;34m[\u001b[0m\u001b[0mc3\u001b[0m\u001b[0;34m]\u001b[0m \u001b[0;34m=\u001b[0m \u001b[0;34m\"D\"\u001b[0m\u001b[0;34m\u001b[0m\u001b[0;34m\u001b[0m\u001b[0m\n\u001b[0m\u001b[1;32m      8\u001b[0m             \u001b[0;32mif\u001b[0m \u001b[0mj\u001b[0m \u001b[0;34m==\u001b[0m \u001b[0md_mean\u001b[0m\u001b[0;34m:\u001b[0m\u001b[0;34m\u001b[0m\u001b[0;34m\u001b[0m\u001b[0m\n\u001b[1;32m      9\u001b[0m                 \u001b[0md\u001b[0m\u001b[0;34m[\u001b[0m\u001b[0mc1\u001b[0m\u001b[0;34m]\u001b[0m\u001b[0;34m[\u001b[0m\u001b[0mc2\u001b[0m\u001b[0;34m]\u001b[0m\u001b[0;34m[\u001b[0m\u001b[0mc3\u001b[0m\u001b[0;34m]\u001b[0m \u001b[0;34m=\u001b[0m \u001b[0;34m\"C\"\u001b[0m\u001b[0;34m\u001b[0m\u001b[0;34m\u001b[0m\u001b[0m\n",
      "\u001b[0;31mValueError\u001b[0m: could not convert string to float: 'D'"
     ]
    }
   ],
   "source": [
    "for c1, i in enumerate(d):\n",
    "    for c2, h in enumerate(i):\n",
    "        for c3, j in enumerate(h):\n",
    "            if (j > d_min) and (j < d_mean):\n",
    "                d[c1][c2][c3] = \"B\"\n",
    "            if (j > d_mean) and (j < d_max):\n",
    "                d[c1][c2][c3] = \"D\"\n",
    "            if j == d_mean:\n",
    "                d[c1][c2][c3] = \"C\"\n",
    "            if j == d_min:\n",
    "                d[c1][c2][c3] = \"A\"\n",
    "            if j == d_max:\n",
    "                d[c1][c2][c3] = \"E\""
   ]
  },
  {
   "cell_type": "code",
   "execution_count": 21,
   "metadata": {},
   "outputs": [],
   "source": [
    "#You only can store more than one type of data if you change the data type to \"object\". However, if you do that, you lose all advantages that numpy provides"
   ]
  },
  {
   "cell_type": "code",
   "execution_count": null,
   "metadata": {},
   "outputs": [],
   "source": []
  }
 ],
 "metadata": {
  "kernelspec": {
   "display_name": "Python 3",
   "language": "python",
   "name": "python3"
  },
  "language_info": {
   "codemirror_mode": {
    "name": "ipython",
    "version": 3
   },
   "file_extension": ".py",
   "mimetype": "text/x-python",
   "name": "python",
   "nbconvert_exporter": "python",
   "pygments_lexer": "ipython3",
   "version": "3.7.1"
  }
 },
 "nbformat": 4,
 "nbformat_minor": 2
}
